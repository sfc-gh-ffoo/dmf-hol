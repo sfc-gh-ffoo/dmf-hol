{
 "metadata": {
  "kernelspec": {
   "display_name": "Streamlit Notebook",
   "name": "streamlit"
  },
  "lastEditStatus": {
   "notebookId": "4lsft25zg6kdemtsuj6b",
   "authorId": "3453690921225",
   "authorName": "ADMIN",
   "authorEmail": "fayanne.foo@snowflake.com",
   "sessionId": "0a1b9978-72df-46b9-873a-878b64242c08",
   "lastEditTime": 1746589788480
  }
 },
 "nbformat_minor": 5,
 "nbformat": 4,
 "cells": [
  {
   "cell_type": "markdown",
   "id": "3775908f-ca36-4846-8f38-5adca39217f2",
   "metadata": {
    "name": "cell1",
    "collapsed": false
   },
   "source": "# PUB Data Metric Functions (DMFs)\nOne method of monitoring data quality is through the uses data metric functions (DMFs), which include Snowflake-provided system DMFs and user-defined DMFs, to monitor the state and integrity of your data. \n\nYou can use DMFs to measure key metrics, such as, but not limited to, freshness and counts that measure duplicates, NULLs, rows, and unique values."
  },
  {
   "cell_type": "code",
   "id": "8eb7fb2c-1936-49e0-818c-14a9f2ede99f",
   "metadata": {
    "language": "sql",
    "name": "cell8"
   },
   "outputs": [],
   "source": "USE DATABASE PUB_DB;\nCREATE SCHEMA GOVERNANCE;",
   "execution_count": null
  },
  {
   "cell_type": "markdown",
   "id": "872890e9-54ae-43b6-91d4-8c1f382d952d",
   "metadata": {
    "name": "cell3",
    "collapsed": false
   },
   "source": "## STEP 1: CREATING CUSTOM DMFs"
  },
  {
   "cell_type": "markdown",
   "id": "722c4856-f7b1-4415-8036-1c7292d0fa5a",
   "metadata": {
    "name": "cell6",
    "collapsed": false
   },
   "source": "### DQ 1. Must be a unique numeric field with 6 digits. No duplicates allowed.\n\nThis DMF returns the number of erroneous records that are duplicated or do not confirm to 6 digits."
  },
  {
   "cell_type": "code",
   "id": "df545246-a04c-4295-b511-924c1ccc3ede",
   "metadata": {
    "language": "sql",
    "name": "cell5"
   },
   "outputs": [],
   "source": "CREATE OR REPLACE DATA METRIC FUNCTION PUB_DB.GOVERNANCE.DQ_6DIG_DUPE_CHECK(\n    arg_t TABLE(\n        arg_c1 NUMBER\n    )\n)\nRETURNS NUMBER\nAS\n$$\n    SELECT\n      (SELECT COUNT(*) \n       FROM arg_t \n       WHERE LENGTH(arg_c1) != 6 \n       OR arg_c1 IS NULL)\n      +(SELECT COUNT(*) - COUNT(DISTINCT arg_c1) \n       FROM arg_t\n       WHERE LENGTH(arg_c1) = 6 \n       AND arg_c1 IS NOT NULL)\n$$;",
   "execution_count": null
  },
  {
   "cell_type": "markdown",
   "id": "a1346c4d-9a96-4959-a5e4-7b627729d06f",
   "metadata": {
    "name": "cell4",
    "collapsed": false
   },
   "source": "### DQ 2. Must contain only alphabetic characters and spaces. Cannot be empty. Maximum 250 characters.\n\n\nThis DMF returns the number of erroneous records that contain other non-alphabetic characters is empty or is more than 250 characters."
  },
  {
   "cell_type": "code",
   "id": "a3ea2f76-b412-4a49-b742-6e9c24782ea9",
   "metadata": {
    "language": "sql",
    "name": "cell12"
   },
   "outputs": [],
   "source": "CREATE OR REPLACE DATA METRIC FUNCTION PUB_DB.GOVERNANCE.DQ_ALPHABETIC_MAX250(\n    arg_t TABLE(\n        arg_c1 VARCHAR\n    )\n)\nRETURNS NUMBER\nAS\n$$\nSELECT COUNT(*)\nFROM arg_t\nWHERE \n    arg_c1 IS NULL\n    OR TRIM(arg_c1) = ''\n    OR LENGTH(arg_c1) > 250\n    OR NOT REGEXP_LIKE(arg_c1, '^[A-Za-z ]+$')\n$$",
   "execution_count": null
  },
  {
   "cell_type": "markdown",
   "id": "58101590-f1b9-47ee-a997-d7e51afcab8a",
   "metadata": {
    "name": "cell13",
    "collapsed": false
   },
   "source": "### DQ 3. Must follow Singapore ID format: 1 letter prefix (S/T), followed by 7 digits, ending with 1 letter suffix (e.g., S1234567D). Must be exactly 9 characters. Maximum 9 characters.\n\n\n\n\nThis DMF returns the number of erroneous records that do not follow Singapore ID format."
  },
  {
   "cell_type": "code",
   "id": "89a34a63-3816-4fe6-8b54-669d4484c675",
   "metadata": {
    "language": "sql",
    "name": "cell14"
   },
   "outputs": [],
   "source": "CREATE OR REPLACE DATA METRIC FUNCTION PUB_DB.GOVERNANCE.DQ_SG_NRIC(\n    arg_t TABLE(\n        arg_c1 VARCHAR\n    )\n)\nRETURNS NUMBER\nAS\n$$\nSELECT COUNT(*)\nFROM arg_t\nWHERE \n    arg_c1 IS NULL\n    OR NOT REGEXP_LIKE(arg_c1, '^[ST][0-9]{7}[A-Za-z]$')\n    OR LENGTH(arg_c1) <> 9\n$$;",
   "execution_count": null
  },
  {
   "cell_type": "markdown",
   "id": "fcc983d2-916a-4bb2-a3ab-a5694db668a1",
   "metadata": {
    "name": "cell15",
    "collapsed": false
   },
   "source": "### DQ 4. Must follow YYYY-MM format and represent a valid calendar month. Maximum 7 characters (e.g., 2025-01).\n\nThis DMF returns the number of erroneous records that do not follow the date format."
  },
  {
   "cell_type": "code",
   "id": "2c95f57b-abe8-44f5-842e-4132b0d27ddb",
   "metadata": {
    "language": "sql",
    "name": "cell16"
   },
   "outputs": [],
   "source": "CREATE OR REPLACE DATA METRIC FUNCTION PUB_DB.GOVERNANCE.DQ_YYYYMM_CHECK(\n    arg_t TABLE(\n        arg_c1 VARCHAR\n    )\n)\nRETURNS NUMBER\nAS\n$$\nSELECT COUNT(*)\nFROM arg_t\nWHERE LENGTH(arg_c1) <> 7\n   OR NOT REGEXP_LIKE(arg_c1, '^\\\\d{4}-(0[1-9]|1[0-2])$')\n$$;\n",
   "execution_count": null
  },
  {
   "cell_type": "markdown",
   "id": "0023a62b-8261-4de4-8139-d1587e51e627",
   "metadata": {
    "name": "cell17",
    "collapsed": false
   },
   "source": "### DQ 5. Must be a positive whole number representing liters. Cannot be negative.\n\nThis DMF returns the number of erroneous records that do not conform to the litres positive integer format"
  },
  {
   "cell_type": "code",
   "id": "2301e716-43c0-4ecc-b6d2-ac98357031b2",
   "metadata": {
    "language": "sql",
    "name": "cell18"
   },
   "outputs": [],
   "source": "CREATE OR REPLACE DATA METRIC FUNCTION PUB_DB.GOVERNANCE.DQ_POSITIVE_WHOLE_NUMBER(\n    arg_t TABLE(\n        arg_c1 NUMBER\n    )\n)\nRETURNS NUMBER\nAS\n$$\nSELECT COUNT(*)\nFROM arg_t\nWHERE \n    arg_c1 IS NULL\n    OR arg_c1 < 0\n    OR arg_c1 % 1 != 0\n$$;\n",
   "execution_count": null
  },
  {
   "cell_type": "markdown",
   "id": "3dd07d01-073d-4a5d-b0b0-f743c93cbd6e",
   "metadata": {
    "name": "cell24",
    "collapsed": false
   },
   "source": "### DQ 6. Value between 0 and 100 inclusive\n\nThis DMF returns the number of erroneous records that do not conform to range of 0 to 100 inclusive."
  },
  {
   "cell_type": "code",
   "id": "ee404187-0920-495d-b029-a393dbc7c023",
   "metadata": {
    "language": "sql",
    "name": "cell25"
   },
   "outputs": [],
   "source": "CREATE OR REPLACE DATA METRIC FUNCTION PUB_DB.GOVERNANCE.DQ_0_100_CHECK(\n    arg_t TABLE(\n        arg_c1 NUMBER\n    )\n)\nRETURNS NUMBER\nAS\n$$\nSELECT COUNT(*)\nFROM arg_t\nWHERE\n    arg_c1 IS NULL\n    OR arg_c1 < 0\n    OR arg_c1 > 100\n$$;",
   "execution_count": null
  },
  {
   "cell_type": "markdown",
   "id": "951b92ca-96b1-4434-ad6b-5881c622a4ae",
   "metadata": {
    "name": "cell19",
    "collapsed": false
   },
   "source": "### DQ 7. Must be a positive whole number. Expected range: 50 - 500.\n\nThis DMF returns the number of erroneous records that do not conform to whole numbers within the number range"
  },
  {
   "cell_type": "code",
   "id": "f274cbf4-8545-4049-b3aa-dc5eac83e231",
   "metadata": {
    "language": "sql",
    "name": "cell20"
   },
   "outputs": [],
   "source": "CREATE OR REPLACE DATA METRIC FUNCTION PUB_DB.GOVERNANCE.DQ_50_TO_500(\n    arg_t TABLE(\n        arg_c1 NUMBER\n    )\n)\nRETURNS NUMBER\nAS\n$$\nSELECT COUNT(*)\nFROM arg_t\nWHERE \n    arg_c1 IS NULL\n    OR arg_c1 % 1 != 0\n    OR arg_c1 < 50\n    OR arg_c1 > 500\n$$;",
   "execution_count": null
  },
  {
   "cell_type": "markdown",
   "id": "83b1dfeb-7d85-4e72-a191-69dca42b5497",
   "metadata": {
    "name": "cell21",
    "collapsed": false
   },
   "source": "### DQ 8. Must be a numeric value with 2 decimal places. Normal range: 0.2 - 0.8 mg/L. Values > 1.0 should be flagged.\n\nThis DMF returns the number of erroneous records that do not conform to 2 decimal places and within the number range"
  },
  {
   "cell_type": "code",
   "id": "b61d6da4-f9da-44c8-a129-f666d5df8f09",
   "metadata": {
    "language": "sql",
    "name": "cell26"
   },
   "outputs": [],
   "source": "CREATE OR REPLACE DATA METRIC FUNCTION PUB_DB.GOVERNANCE.DQ_LITRE_RANGE_FORMAT(\n    arg_t TABLE(\n        arg_c1 NUMBER\n    )\n)\nRETURNS NUMBER\nAS\n$$\nSELECT COUNT(*)\nFROM arg_t\nWHERE \n    arg_c1 IS NULL\n    OR ROUND(arg_c1, 2) != arg_c1\n    OR arg_c1 > 1.00  \n$$;",
   "execution_count": null
  },
  {
   "cell_type": "markdown",
   "id": "81d60b81-0a49-46f8-b928-ae93c25f87ce",
   "metadata": {
    "name": "cell22",
    "collapsed": false
   },
   "source": "### DQ 9. Must be an integer between 1 (very dissatisfied) and 5 (very satisfied). Empty values are considered incomplete.\n\nThis DMF returns the number of erroneous records that do not conform to integer values between 1 and 5."
  },
  {
   "cell_type": "code",
   "id": "6f73a4e8-4131-4b22-8249-28a9bdde4cf7",
   "metadata": {
    "language": "sql",
    "name": "cell27"
   },
   "outputs": [],
   "source": "CREATE OR REPLACE DATA METRIC FUNCTION PUB_DB.GOVERNANCE.DQ_SATISFACTION_SCORE(\n    arg_t TABLE(\n        arg_c1 NUMBER\n    )\n)\nRETURNS NUMBER\nAS\n$$\nSELECT COUNT(*)\nFROM arg_t\nWHERE \n    arg_c1 IS NULL\n    OR NOT IS_INTEGER(arg_c1) \n    OR arg_c1 <1\n    OR arg_c1 >5\n$$;",
   "execution_count": null
  },
  {
   "cell_type": "markdown",
   "id": "0cb1146a-8ae8-4395-b2b3-af9751d7b542",
   "metadata": {
    "name": "cell23",
    "collapsed": false
   },
   "source": "### DQ 10. Must be a positive monetary value. No more than 2 decimal places allowed in normal cases.\n\nThis DMF returns the number of erroneous records that do not conform to integer values between 1 and 5."
  },
  {
   "cell_type": "code",
   "id": "0044d339-7b7c-47ce-baf6-53b1e58b64ab",
   "metadata": {
    "language": "sql",
    "name": "cell28"
   },
   "outputs": [],
   "source": "CREATE OR REPLACE DATA METRIC FUNCTION PUB_DB.GOVERNANCE.DQ_MAX2DECIMALS_POSITIVE(\n    arg_t TABLE(\n        arg_c1 NUMBER\n    )\n)\nRETURNS NUMBER\nAS\n$$\nSELECT COUNT(*)\nFROM arg_t\nWHERE \n    arg_c1 IS NULL\n    OR arg_c1 <=0\n    OR ROUND(arg_c1,2) != arg_c1\n$$;",
   "execution_count": null
  },
  {
   "cell_type": "markdown",
   "id": "c95c6c43-b980-4488-ae0b-c3865e685f54",
   "metadata": {
    "name": "cell10",
    "collapsed": false
   },
   "source": "## STEP 2: Apply all the DMFs created above to the customer table:"
  },
  {
   "cell_type": "code",
   "id": "61702ca0-8740-4c53-86cb-385ce50eefc5",
   "metadata": {
    "language": "sql",
    "name": "cell9"
   },
   "outputs": [],
   "source": "ALTER TABLE PUB_DB.PUBLIC.CUSTOMER\n  ADD DATA METRIC FUNCTION PUB_DB.GOVERNANCE.DQ_0_100_CHECK\n    ON (WATERQUALITYINDEX);\n\nALTER TABLE PUB_DB.PUBLIC.CUSTOMER\n  ADD DATA METRIC FUNCTION PUB_DB.GOVERNANCE.DQ_50_TO_500\n    ON (TDSPPM);\n\nALTER TABLE PUB_DB.PUBLIC.CUSTOMER\n  ADD DATA METRIC FUNCTION PUB_DB.GOVERNANCE.DQ_6DIG_DUPE_CHECK\n    ON (CUSTOMERID);\n\nALTER TABLE PUB_DB.PUBLIC.CUSTOMER\n  ADD DATA METRIC FUNCTION PUB_DB.GOVERNANCE.DQ_ALPHABETIC_MAX250\n    ON (CUSTOMERNAME);\n\nALTER TABLE PUB_DB.PUBLIC.CUSTOMER\n  ADD DATA METRIC FUNCTION PUB_DB.GOVERNANCE.DQ_POSITIVE_WHOLE_NUMBER\n    ON (WATERCONSUMPTIONLITERS);\n    \nALTER TABLE PUB_DB.PUBLIC.CUSTOMER\n  ADD DATA METRIC FUNCTION PUB_DB.GOVERNANCE.DQ_LITRE_RANGE_FORMAT\n    ON (CHLORINELEVELMGL);\n\nALTER TABLE PUB_DB.PUBLIC.CUSTOMER\n  ADD DATA METRIC FUNCTION PUB_DB.GOVERNANCE.DQ_MAX2DECIMALS_POSITIVE\n    ON (PHLEVEL);\n\nALTER TABLE PUB_DB.PUBLIC.CUSTOMER\n  ADD DATA METRIC FUNCTION PUB_DB.GOVERNANCE.DQ_SATISFACTION_SCORE\n    ON (CUSTOMERFEEDBACK);\n\nALTER TABLE PUB_DB.PUBLIC.CUSTOMER\n  ADD DATA METRIC FUNCTION PUB_DB.GOVERNANCE.DQ_SG_NRIC\n    ON (NRIC);\n\nALTER TABLE PUB_DB.PUBLIC.CUSTOMER\n  ADD DATA METRIC FUNCTION PUB_DB.GOVERNANCE.DQ_YYYYMM_CHECK\n    ON (MONTH);",
   "execution_count": null
  },
  {
   "cell_type": "code",
   "id": "64dc6321-7192-4758-ac6c-e1bf0287585d",
   "metadata": {
    "language": "sql",
    "name": "cell29"
   },
   "outputs": [],
   "source": "ALTER TABLE PUB_DB.PUBLIC.CUSTOMER SET\n  DATA_METRIC_SCHEDULE = '5 MINUTES';",
   "execution_count": null
  },
  {
   "cell_type": "code",
   "id": "fd5a9b2c-c822-4547-a3f2-a8a388d2ba01",
   "metadata": {
    "language": "sql",
    "name": "cell2"
   },
   "outputs": [],
   "source": "USE DATABASE PUB_DB;\nUSE SCHEMA PUBLIC;\nSELECT *\n  FROM TABLE(\n    INFORMATION_SCHEMA.DATA_METRIC_FUNCTION_REFERENCES(\n      REF_ENTITY_NAME => 'PUB_DB.PUBLIC.CUSTOMER',\n      REF_ENTITY_DOMAIN => 'table'\n    )\n  );",
   "execution_count": null
  },
  {
   "cell_type": "markdown",
   "id": "a4233ed9-914a-4f0e-81e4-a26f67a91e4f",
   "metadata": {
    "name": "cell11",
    "collapsed": false
   },
   "source": "## STEP 3: View DMF Results"
  },
  {
   "cell_type": "code",
   "id": "955879c1-171a-487b-873d-c4717711bfc0",
   "metadata": {
    "language": "sql",
    "name": "cell7"
   },
   "outputs": [],
   "source": "SELECT *\n  FROM TABLE(SNOWFLAKE.LOCAL.DATA_QUALITY_MONITORING_RESULTS(\n    REF_ENTITY_NAME => 'PUB_DB.PUBLIC.CUSTOMER',\n    REF_ENTITY_DOMAIN => 'TABLE'));",
   "execution_count": null
  }
 ]
}